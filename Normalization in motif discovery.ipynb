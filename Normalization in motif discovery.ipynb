{
 "cells": [
  {
   "cell_type": "code",
   "execution_count": 1,
   "id": "dc2bb1e5",
   "metadata": {},
   "outputs": [],
   "source": [
    "import numpy as np\n",
    "from scipy.spatial.distance import pdist, squareform\n",
    "from scipy.stats import norm\n",
    "import pandas as pd\n",
    "import statistics\n",
    "import math"
   ]
  },
  {
   "cell_type": "code",
   "execution_count": 2,
   "id": "366b7c80",
   "metadata": {},
   "outputs": [
    {
     "name": "stdout",
     "output_type": "stream",
     "text": [
      "Time series length: 20000\n",
      "Subsequence lengths: [100, 200, 400, 600, 1000]\n"
     ]
    }
   ],
   "source": [
    "# ------------ Here you can upload your data ------------ #\n",
    "path =  # Path of file\n",
    "title =  # Give your file a name\n",
    "TS = pd.read_excel(path+title+\".xlsx\")\n",
    "ts = TS.ts.values[0:20000]\n",
    "labels = TS.label.values[0:20000]\n",
    "\n",
    "# Time Series Length\n",
    "N = len(ts)\n",
    "\n",
    "# Here you can enter the subsequence lengths you want to examine\n",
    "SSQ = [int(0.005*N), int(0.01*N), int(0.02*N), int(0.03*N), int(0.05*N)] \n",
    "\n",
    "print(\"Time series length:\", N)\n",
    "print(\"Subsequence lengths:\", SSQ)"
   ]
  },
  {
   "cell_type": "code",
   "execution_count": 3,
   "id": "c4babcd9",
   "metadata": {},
   "outputs": [],
   "source": [
    "def distancedistributions(ts, ssqlength):\n",
    "    global D1, D2, SF1, SF2, M\n",
    "    M = int(ssqlength)\n",
    "    \n",
    "    res1 = np.zeros((N-M+1, M))\n",
    "    res2 = np.zeros((N-M+1, M))\n",
    "    for k in range(0, N-M+1):\n",
    "        mean1 = np.mean(ts[k:k+M-1])\n",
    "        sd1 = np.std(ts[k:k+M-1])\n",
    "        for j in range(0,M):\n",
    "            res2[k,j] = ts[k+j-1]\n",
    "            res1[k,j] = (ts[k+j-1]-mean1)/sd1\n",
    "            \n",
    "    D1 = pdist(res1, 'euclidean') # EDz\n",
    "    D2 = pdist(res2, 'euclidean') # ED\n",
    "     \n",
    "    SF1 = squareform(D1)\n",
    "    SF2 = squareform(D2)\n",
    "    \n",
    "    # Exclusion zone - based on code from Github Matrix Profile\n",
    "    for i in range(N-M+1):   \n",
    "        q = int(M/2)+1\n",
    "        L = max(i - q, 0)\n",
    "        LL = min(i + q, N-M+1) \n",
    "        SF1[i][L:LL] = 1000\n",
    "        SF2[i][L:LL] = 1000\n"
   ]
  },
  {
   "cell_type": "code",
   "execution_count": 4,
   "id": "2339e0c1",
   "metadata": {},
   "outputs": [],
   "source": [
    "def meaningfulMSSs(): \n",
    "    global MM1, MM2\n",
    "    mindist1 = np.nanmin(SF1, axis = 1)\n",
    "    mindist2 = np.nanmin(SF2, axis = 1)\n",
    "    index1 = np.argmin(SF1, axis = 1)\n",
    "    index2 = np.argmin(SF2, axis = 1)\n",
    "    \n",
    "    MM1 = list()\n",
    "    MM2 = list()\n",
    "    for j in range(len(mindist1)):\n",
    "        b1 = index1[j]\n",
    "        b2 = index2[j]\n",
    "        count1 = 0\n",
    "        count2 = 0\n",
    "        for ll in range(M):\n",
    "            if labels[j+ll] == labels[b1+ll]:\n",
    "                count1 = count1 + 1\n",
    "            if labels[j+ll] == labels[b2+ll]:\n",
    "                count2 = count2 + 1    \n",
    "\n",
    "        MM1.append(round(count1/M, 3))\n",
    "        MM2.append(round(count2/M, 3))\n",
    "        "
   ]
  },
  {
   "cell_type": "code",
   "execution_count": 5,
   "id": "686f886e",
   "metadata": {},
   "outputs": [
    {
     "name": "stdout",
     "output_type": "stream",
     "text": [
      "m =  100 , EDz =  85.0 , ED =  14.5\n",
      "m =  200 , EDz =  84.7 , ED =  14.3\n",
      "m =  400 , EDz =  84.0 , ED =  13.9\n",
      "m =  600 , EDz =  83.3 , ED =  13.5\n",
      "m =  1000 , EDz =  83.0 , ED =  12.8\n"
     ]
    }
   ],
   "source": [
    "meaningful1 = list()\n",
    "meaningful2 = list()\n",
    "\n",
    "for k in range(len(SSQ)):\n",
    "    ssqlength = SSQ[k]\n",
    "    distancedistributions(ts, ssqlength)\n",
    "    meaningfulMSSs()\n",
    "    meaningful1.append(round(statistics.mean(MM1)*100,1))\n",
    "    meaningful2.append(round(statistics.mean(MM2)*100,1))\n",
    "    print(\"m = \", ssqlength, \", EDz = \", meaningful1[-1], \", ED = \", meaningful2[-1])"
   ]
  },
  {
   "cell_type": "code",
   "execution_count": null,
   "id": "625cb465",
   "metadata": {},
   "outputs": [],
   "source": []
  }
 ],
 "metadata": {
  "kernelspec": {
   "display_name": "Python 3",
   "language": "python",
   "name": "python3"
  },
  "language_info": {
   "codemirror_mode": {
    "name": "ipython",
    "version": 3
   },
   "file_extension": ".py",
   "mimetype": "text/x-python",
   "name": "python",
   "nbconvert_exporter": "python",
   "pygments_lexer": "ipython3",
   "version": "3.8.8"
  }
 },
 "nbformat": 4,
 "nbformat_minor": 5
}
